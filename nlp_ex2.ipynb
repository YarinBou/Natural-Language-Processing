{
  "nbformat": 4,
  "nbformat_minor": 0,
  "metadata": {
    "colab": {
      "name": "NLP_assignment_2_313566747_321627960.ipynb",
      "provenance": [],
      "collapsed_sections": []
    },
    "kernelspec": {
      "name": "python3",
      "display_name": "Python 3"
    }
  },
  "cells": [
    {
      "cell_type": "markdown",
      "metadata": {
        "id": "n0zB2BpE6DhW"
      },
      "source": [
        "# Assignment 2\n",
        "\n",
        "This assignment is about training and evaluating a POS tagger with some real data. The dataset is available through the Universal Dependencies (https://universaldependencies.org/) (UD) project. To get to know the project, please visit https://universaldependencies.org/introduction.html)"
      ]
    },
    {
      "cell_type": "code",
      "metadata": {
        "colab": {
          "base_uri": "https://localhost:8080/"
        },
        "id": "iRm7zcfq56HF",
        "outputId": "356475c5-2c6c-4128-8803-c50a84849a04"
      },
      "source": [
        "import numpy as np\n",
        "import operator\n",
        "import nltk\n",
        "import pandas as pd\n",
        "import operator\n",
        "import math\n",
        "import random \n",
        "import os\n",
        "from collections import Counter, defaultdict\n",
        "from typing import List, Dict\n",
        "!pip install conllutils\n",
        "import conllutils"
      ],
      "execution_count": null,
      "outputs": [
        {
          "output_type": "stream",
          "name": "stdout",
          "text": [
            "Requirement already satisfied: conllutils in /usr/local/lib/python3.7/dist-packages (1.1.4)\n",
            "Requirement already satisfied: numpy in /usr/local/lib/python3.7/dist-packages (from conllutils) (1.21.6)\n"
          ]
        }
      ]
    },
    {
      "cell_type": "markdown",
      "metadata": {
        "id": "UH-Xvqip6Teu"
      },
      "source": [
        "**Part 1** (getting the data)\n",
        "\n",
        "You can download the dataset files directly from the UD website, but it will let you only download all the languages in one compressed file. In this assignment you will be working with th GUM dataset, which you can download directly from:\n",
        "https://github.com/UniversalDependencies/UD_English-GUM.\n",
        "Please download it to your colab machine.\n",
        "\n"
      ]
    },
    {
      "cell_type": "code",
      "metadata": {
        "id": "nsZsyTVC6Sw0",
        "colab": {
          "base_uri": "https://localhost:8080/"
        },
        "outputId": "7a26e94b-4f1c-4483-b79e-bb4f0794c1d3"
      },
      "source": [
        "!git clone https://github.com/UniversalDependencies/UD_English-GUM\n",
        "%cd /content/UD_English-GUM/\n",
        "!git checkout 2c8b062269f2d2d3d62405c82d8c25cf24f705dd\n",
        "%cd /content/"
      ],
      "execution_count": null,
      "outputs": [
        {
          "output_type": "stream",
          "name": "stdout",
          "text": [
            "fatal: destination path 'UD_English-GUM' already exists and is not an empty directory.\n",
            "/content/UD_English-GUM\n",
            "HEAD is now at 2c8b062 Updated statistics.\n",
            "/content\n"
          ]
        }
      ]
    },
    {
      "cell_type": "code",
      "source": [
        "!ls UD_English-GUM"
      ],
      "metadata": {
        "colab": {
          "base_uri": "https://localhost:8080/"
        },
        "id": "Cg0_Z369AdqD",
        "outputId": "cb9d8f22-d699-4f67-e5f8-d2901435a0a9"
      },
      "execution_count": null,
      "outputs": [
        {
          "output_type": "stream",
          "name": "stdout",
          "text": [
            "CONTRIBUTING.md       en_gum-ud-test.conllu   LICENSE.txt     README.md\n",
            "en_gum-ud-dev.conllu  en_gum-ud-train.conllu  not-to-release  stats.xml\n"
          ]
        }
      ]
    },
    {
      "cell_type": "markdown",
      "metadata": {
        "id": "CZZGOtoteWHz"
      },
      "source": [
        "We will use the (train/dev/test) files:\n",
        "\n",
        "UD_English-GUM/en_gum-ud-train.conllu\n",
        "\n",
        "UD_English-GUM/en_gum-ud-dev.conllu\n",
        "\n",
        "UD_English-GUM/en_gum-ud-test.conllu\n",
        "\n",
        "They are all formatted in the conllu format. You may read about it [here](https://universaldependencies.org/format.html). There is a utility library **conllutils**, which can help you read the data into the memory. It has already been installed and imported above.\n",
        "\n",
        "You should write a code that reads the three datasets into memory. You may choose the data structure by yourself. As you can see, every word is represented by a line, with columns representing specific features. We are only interested in the first and fourth columns, corresponding to the word and its POS tag."
      ]
    },
    {
      "cell_type": "code",
      "source": [
        "import conllutils\n",
        "\n",
        "ROOT_PATH = 'UD_English-GUM'\n",
        "\n",
        "train_file = os.path.join(ROOT_PATH, 'en_gum-ud-train.conllu')\n",
        "dev_file = os.path.join(ROOT_PATH, 'en_gum-ud-dev.conllu')\n",
        "test_file = os.path.join(ROOT_PATH, 'en_gum-ud-test.conllu')"
      ],
      "metadata": {
        "id": "X7Ajm8AmAUAd"
      },
      "execution_count": null,
      "outputs": []
    },
    {
      "cell_type": "code",
      "metadata": {
        "id": "v7A0-DjWg2JW"
      },
      "source": [
        "# Your code goes here\n",
        "paths = ['UD_English-GUM/en_gum-ud-train.conllu', 'UD_English-GUM/en_gum-ud-dev.conllu', 'UD_English-GUM/en_gum-ud-test.conllu']\n",
        "\n",
        "def load_file_from_git(path):\n",
        "  return list(conllutils.read_conllu(path))"
      ],
      "execution_count": null,
      "outputs": []
    },
    {
      "cell_type": "code",
      "source": [
        "train_list = load_file_from_git(paths[0])"
      ],
      "metadata": {
        "id": "TDw4AydgZ993"
      },
      "execution_count": null,
      "outputs": []
    },
    {
      "cell_type": "code",
      "source": [
        "dev_list = load_file_from_git(paths[1])"
      ],
      "metadata": {
        "id": "pNpylLh1aAn6"
      },
      "execution_count": null,
      "outputs": []
    },
    {
      "cell_type": "code",
      "source": [
        "test_list = load_file_from_git(paths[2])"
      ],
      "metadata": {
        "id": "yWInI0VRaCVr"
      },
      "execution_count": null,
      "outputs": []
    },
    {
      "cell_type": "code",
      "source": [
        "#print(train_list[0])"
      ],
      "metadata": {
        "id": "LwxpE-K3rX3p"
      },
      "execution_count": null,
      "outputs": []
    },
    {
      "cell_type": "code",
      "source": [
        "#print(train_list[0][4])"
      ],
      "metadata": {
        "id": "dza9GBgpr14W"
      },
      "execution_count": null,
      "outputs": []
    },
    {
      "cell_type": "code",
      "source": [
        "#type(train_list[0][4])"
      ],
      "metadata": {
        "id": "4nWKu7aCf3Kr"
      },
      "execution_count": null,
      "outputs": []
    },
    {
      "cell_type": "code",
      "source": [
        "#print(train_list[0][4]['lemma'])"
      ],
      "metadata": {
        "id": "GKQ_rS8AsJyR"
      },
      "execution_count": null,
      "outputs": []
    },
    {
      "cell_type": "code",
      "source": [
        "#print(train_list[0][4]['xpos'])"
      ],
      "metadata": {
        "id": "VJ2SUyJNsTHF"
      },
      "execution_count": null,
      "outputs": []
    },
    {
      "cell_type": "code",
      "source": [
        "# Takes the loaded and parsed data file (parsed with conllu), returns a list of sentences where each sentence is a map between words and their associated tags\n",
        "def preprocess_data(data: list) -> List[Dict[str, str]]:\n",
        "    result = []\n",
        "    for sentence in data:\n",
        "        words_to_tags = {word['form']: word.get('xpos', '') for word in sentence}\n",
        "        result.append(words_to_tags)\n",
        "    return result"
      ],
      "metadata": {
        "id": "9OPslySO_Q81"
      },
      "execution_count": null,
      "outputs": []
    },
    {
      "cell_type": "code",
      "source": [
        "train_list = preprocess_data(conllutils.read_conllu(train_file))\n",
        "print(f\"Train data has {len(train_list)} sentences\")"
      ],
      "metadata": {
        "colab": {
          "base_uri": "https://localhost:8080/"
        },
        "id": "4fyeTbNwa5HC",
        "outputId": "f9d40e73-72a9-4422-8407-008d6e9ca35d"
      },
      "execution_count": null,
      "outputs": [
        {
          "output_type": "stream",
          "name": "stdout",
          "text": [
            "Train data has 4287 sentences\n"
          ]
        }
      ]
    },
    {
      "cell_type": "code",
      "source": [
        "dev_list = preprocess_data(conllutils.read_conllu(dev_file))\n",
        "print(f\"Dev data has {len(dev_list)} sentences\")"
      ],
      "metadata": {
        "colab": {
          "base_uri": "https://localhost:8080/"
        },
        "id": "808Q8Fr-a5Xb",
        "outputId": "44ee64db-2d27-44f7-fd54-af35c6b93161"
      },
      "execution_count": null,
      "outputs": [
        {
          "output_type": "stream",
          "name": "stdout",
          "text": [
            "Dev data has 784 sentences\n"
          ]
        }
      ]
    },
    {
      "cell_type": "code",
      "source": [
        "test_list = preprocess_data(conllutils.read_conllu(test_file))\n",
        "print(f\"Test data has {len(test_list)} sentences\")"
      ],
      "metadata": {
        "colab": {
          "base_uri": "https://localhost:8080/"
        },
        "id": "Y-peKs_x_s4C",
        "outputId": "bdd5c018-e90a-4d81-a780-3a769cd71e3c"
      },
      "execution_count": null,
      "outputs": [
        {
          "output_type": "stream",
          "name": "stdout",
          "text": [
            "Test data has 890 sentences\n"
          ]
        }
      ]
    },
    {
      "cell_type": "markdown",
      "metadata": {
        "id": "q0Z9BMNM7EP3"
      },
      "source": [
        "**Part 2**\n",
        "\n",
        "Write a class **simple_tagger**, with methods *train* and *evaluate*. The method *train* receives the data as a list of sentences, and use it for training the tagger. In this case, it should learn a simple dictionary that maps words to tags, defined as the most frequent tag for every word (in case there is more than one most frequent tag, you may select one of them randomly). The dictionary should be stored as a class member for evaluation.\n",
        "\n",
        "The method *evaluate* receives the data as a list of sentences, and use it to evaluate the tagger performance. Specifically, you should calculate the word and sentence level accuracy.\n",
        "The evaluation process is simply going word by word, querying the dictionary (created by the train method) for each word’s tag and compare it to the true tag of that word. The word-level accuracy is the number of successes divided by the number of words. For OOV (out of vocabulary, or unknown) words, the tagger should assign the most frequent tag in the entire training set (i.e., the mode). The function should return the two numbers: word level accuracy and sentence level accuracy.\n"
      ]
    },
    {
      "cell_type": "code",
      "source": [
        "word = str\n",
        "tag = str"
      ],
      "metadata": {
        "id": "AdNKaYpiBonr"
      },
      "execution_count": null,
      "outputs": []
    },
    {
      "cell_type": "code",
      "source": [
        "from collections import Counter\n",
        "from operator import itemgetter\n",
        "\n",
        "class SimpleTagger:\n",
        "  def __init__(self):\n",
        "    self.words_to_tags: Dict[word, tag] = {}\n",
        "    self.most_common_tag = None\n",
        "\n",
        "  def train(self, data: List[Dict[word, tag]]):\n",
        "    words_tags_counter = Counter()\n",
        "    tags_counter = Counter()\n",
        "    for sentence in data:\n",
        "      words_tags_counter.update(sentence.items())\n",
        "    d = defaultdict(list)\n",
        "    for (word, tag), num_of_occ in words_tags_counter.items():\n",
        "      d[word].append((tag, num_of_occ))\n",
        "      tags_counter.update([tag]*num_of_occ)\n",
        "    for word, tags in d.items():\n",
        "      self.words_to_tags[word] = max(tags, key=itemgetter(1))[0]\n",
        "    self.most_common_tag = tags_counter.most_common(1)[0][0]\n",
        "  \n",
        "  def predict_tag(self, word: word) -> tag:\n",
        "    return self.words_to_tags.get(word, self.most_common_tag)\n",
        "\n",
        "  def evaluate(self, data: List[Dict[word, tag]]):\n",
        "    total_words = sum(len(sentence) for sentence in data)\n",
        "    total_sentences = len(data)\n",
        "    total_words_correct = 0\n",
        "    total_sentences_correct = 0\n",
        "    for sentence in data:\n",
        "      correct_words_predictions = sum(self.predict_tag(word) == tag for word,tag in sentence.items())\n",
        "      total_words_correct += correct_words_predictions\n",
        "      if correct_words_predictions == len(sentence):\n",
        "        total_sentences_correct += 1\n",
        "    word_acc = total_words_correct / total_words\n",
        "    sent_acc = total_sentences_correct / total_sentences\n",
        "    return word_acc, sent_acc"
      ],
      "metadata": {
        "id": "w8VtosY-B6MJ"
      },
      "execution_count": null,
      "outputs": []
    },
    {
      "cell_type": "code",
      "source": [
        "tagger = SimpleTagger()\n",
        "tagger.train(train_list)\n",
        "tagger.most_common_tag\n",
        "tagger.words_to_tags['walk']"
      ],
      "metadata": {
        "id": "XwEcBMSdrW2l",
        "colab": {
          "base_uri": "https://localhost:8080/",
          "height": 35
        },
        "outputId": "753e9e06-75a7-473c-ad89-83ac8c6828b7"
      },
      "execution_count": null,
      "outputs": [
        {
          "output_type": "execute_result",
          "data": {
            "text/plain": [
              "'VB'"
            ],
            "application/vnd.google.colaboratory.intrinsic+json": {
              "type": "string"
            }
          },
          "metadata": {},
          "execution_count": 20
        }
      ]
    },
    {
      "cell_type": "code",
      "source": [
        "simple_words_accuracy_train, simple_sentences_accuracy_train = tagger.evaluate(train_list)\n",
        "print(\"words_accuracy - train file = {:.5f}\".format(simple_words_accuracy_train))\n",
        "print(\"sentences_accuracy - train file = {:.5f}\".format(simple_sentences_accuracy_train))"
      ],
      "metadata": {
        "colab": {
          "base_uri": "https://localhost:8080/"
        },
        "id": "cw70aXxCX0ne",
        "outputId": "3177d7c0-9462-4ea5-da2d-ccffe7be3af9"
      },
      "execution_count": null,
      "outputs": [
        {
          "output_type": "stream",
          "name": "stdout",
          "text": [
            "words_accuracy - train file = 0.93645\n",
            "sentences_accuracy - train file = 0.39701\n"
          ]
        }
      ]
    },
    {
      "cell_type": "code",
      "source": [
        "simple_words_accuracy_test, simple_sentences_accuracy_test = tagger.evaluate(test_list)\n",
        "print(\"words_accuracy - test file = {:.5f}\".format(simple_words_accuracy_test))\n",
        "print(\"sentences_accuracy - test file = {:.5f}\".format(simple_sentences_accuracy_test))"
      ],
      "metadata": {
        "colab": {
          "base_uri": "https://localhost:8080/"
        },
        "id": "ABqDOBXbX01z",
        "outputId": "076b6959-72d2-4edd-f11e-5ac8fda3d339"
      },
      "execution_count": null,
      "outputs": [
        {
          "output_type": "stream",
          "name": "stdout",
          "text": [
            "words_accuracy - test file = 0.80626\n",
            "sentences_accuracy - test file = 0.13933\n"
          ]
        }
      ]
    },
    {
      "cell_type": "code",
      "source": [
        "simple_words_accuracy_dev, simple_sentences_accuracy_dev = tagger.evaluate(dev_list)\n",
        "print(\"words_accuracy - dev file = {:.5f}\".format(simple_words_accuracy_dev))\n",
        "print(\"sentences_accuracy - dev file = {:.5f}\".format(simple_sentences_accuracy_dev))"
      ],
      "metadata": {
        "colab": {
          "base_uri": "https://localhost:8080/"
        },
        "id": "cvf1_uurX079",
        "outputId": "426c0e0e-8c6b-49e4-86ab-5197b8b0c521"
      },
      "execution_count": null,
      "outputs": [
        {
          "output_type": "stream",
          "name": "stdout",
          "text": [
            "words_accuracy - dev file = 0.81871\n",
            "sentences_accuracy - dev file = 0.12117\n"
          ]
        }
      ]
    },
    {
      "cell_type": "markdown",
      "metadata": {
        "id": "etK9iZIq8i0X"
      },
      "source": [
        "**Part 3**\n",
        "\n",
        "Similar to part 2, write the class hmm_tagger, which implements HMM tagging. The method *train* should build the matrices A, B and Pi, from the data as discussed in class. The method *evaluate* should find the best tag sequence for every input sentence using he Viterbi decoding algorithm, and then calculate the word and sentence level accuracy using the gold-standard tags. You should implement the Viterbi algorithm in the next block and call it from your class.\n",
        "\n",
        "Additional guidance:\n",
        "1. The matrix B represents the emissions probabilities. Since B is a matrix, you should build a dictionary that maps every unique word in the corpus to a serial numeric id (starting with 0). This way columns in B represents word ids.\n",
        "2. During the evaluation, you should first convert each word into it’s index and then create the observation array to be given to Viterbi, as a list of ids. OOV words should be assigned with a random tag. To make sure Viterbi works appropriately, you can simply break the sentence into multiple segments every time you see an OOV word, and decode every segment individually using Viterbi.\n"
      ]
    },
    {
      "cell_type": "code",
      "source": [
        "def convert_word_to_index(data: List[Dict[word, tag]]):\n",
        "    words_counter = Counter()\n",
        "    tags_counter = Counter()\n",
        "    for sentence in data:\n",
        "        # print(type(sentence))\n",
        "        words_counter.update(sentence.keys())\n",
        "        tags_counter.update(sentence.values())\n",
        "    def counter_to_index_dict(counter): \n",
        "        return dict(zip(counter.keys(), range(len(counter))))\n",
        "    return counter_to_index_dict(words_counter), counter_to_index_dict(tags_counter)"
      ],
      "metadata": {
        "id": "yL1yVKbi8WS5"
      },
      "execution_count": null,
      "outputs": []
    },
    {
      "cell_type": "code",
      "source": [
        "train_words_index, train_tags_index = convert_word_to_index(train_list)"
      ],
      "metadata": {
        "id": "Tp5f1iEcfLSg"
      },
      "execution_count": null,
      "outputs": []
    },
    {
      "cell_type": "code",
      "source": [
        "# Viterbi\n",
        "def viterbi(observations, A, B, Pi):\n",
        "  N = A.shape[0]\n",
        "  T = len(observations)\n",
        "  delta = np.zeros((N, T))\n",
        "  phi = np.zeros((N, T))\n",
        "  delta[:, 0] = B[:, observations[0]] * Pi\n",
        "  phi[:, 0] = 0\n",
        "  for t in range(1, T):\n",
        "    for n in range(N):\n",
        "      path_prob = delta[:, t-1]*A[:, n]\n",
        "      delta[n, t] = B[n, observations[t]] * np.max(path_prob)\n",
        "      phi[n,t] = np.argmax(path_prob)\n",
        "  best_sequence = np.zeros(T, np.int8)\n",
        "  best_sequence[-1] = np.argmax(delta[:, T-1])\n",
        "  for i in reversed(range(1, T)):\n",
        "    best_sequence[i-1] = phi[best_sequence[i], i]\n",
        "  return best_sequence"
      ],
      "metadata": {
        "id": "BAP1SKUs8csA"
      },
      "execution_count": null,
      "outputs": []
    },
    {
      "cell_type": "code",
      "source": [
        "# A simple example to run the Viterbi algorithm:\n",
        "#( Same as in presentation \"NLP 3 - Tagging\" on slide 35)\n",
        "\n",
        "A = np.array([[0.3, 0.7], [0.2, 0.8]])\n",
        "B = np.array([[0.1, 0.1, 0.3, 0.5], [0.3, 0.3, 0.2, 0.2]])\n",
        "Pi = np.array([0.4, 0.6])\n",
        "print(viterbi([0, 3, 2, 0], A, B, Pi))\n",
        "# Expected output: 1, 1, 1, 1"
      ],
      "metadata": {
        "colab": {
          "base_uri": "https://localhost:8080/"
        },
        "id": "EWrOULqLcL9Q",
        "outputId": "66e67984-9f24-4f36-bacf-6927e2438fea"
      },
      "execution_count": null,
      "outputs": [
        {
          "output_type": "stream",
          "name": "stdout",
          "text": [
            "[1 1 1 1]\n"
          ]
        }
      ]
    },
    {
      "cell_type": "code",
      "source": [
        "from sklearn.preprocessing import normalize\n",
        "word_id = int"
      ],
      "metadata": {
        "id": "LUdU-ErKcSFk"
      },
      "execution_count": null,
      "outputs": []
    },
    {
      "cell_type": "code",
      "source": [
        "class hmm_tagger:\n",
        "  def __init__(self):\n",
        "    pass\n",
        "\n",
        "  def train(self, data: List[Dict[word, tag]]):\n",
        "    words_index, tags_index = convert_word_to_index(data)\n",
        "    total_unique_words, total_unique_tags = len(words_index), len(tags_index)\n",
        "    total_words = sum(len(sentence) for sentence in data)\n",
        "    self.transitions = np.zeros((total_unique_tags, total_unique_tags))  # A matrix\n",
        "    self.emissions = np.zeros((total_unique_tags, total_unique_words))  # B matrix\n",
        "    self.starting_probs = np.zeros(total_unique_tags)  # pi vector\n",
        "    for sentence in data:\n",
        "      for i, (word, tag) in enumerate(sentence.items()):\n",
        "        if i == 0:\n",
        "          self.starting_probs[tags_index[tag]] += 1\n",
        "        self.emissions[tags_index[tag], words_index[word]] += 1\n",
        "      for (prev_tag, tag) in zip(sentence.values(), list(sentence.values())[1:]):\n",
        "        transition = (tags_index[prev_tag], tags_index[tag])\n",
        "        self.transitions[transition] += 1\n",
        "    # Normalize all matrices\n",
        "    self.starting_probs = self.starting_probs / total_words\n",
        "    self.transitions = normalize(self.transitions, axis=1, norm='l1')\n",
        "    self.emissions = normalize(self.emissions, axis=1, norm='l1')\n",
        "\n",
        "    self.train_words_index = words_index\n",
        "    self.train_tags_index = tags_index\n",
        "\n",
        "  # Predicts POS tags for the given sentence\n",
        "  def predict_tags(self, sentence: List[word_id]) -> List[tag]:\n",
        "    predicted_tags = np.array([], dtype=np.int8)\n",
        "    current_segment = []\n",
        "    for word in sentence:\n",
        "      if word is None:\n",
        "        if current_segment:\n",
        "          tags = viterbi(current_segment, self.transitions, self.emissions, self.starting_probs)\n",
        "          predicted_tags = np.concatenate((predicted_tags, tags))\n",
        "        predicted_tags = np.append(predicted_tags, np.random.choice(list(self.train_tags_index.values())))\n",
        "        current_segment = []\n",
        "      else:\n",
        "        current_segment.append(word)\n",
        "    if current_segment:\n",
        "      tags = viterbi(current_segment, self.transitions, self.emissions, self.starting_probs)\n",
        "      predicted_tags = np.concatenate((predicted_tags, tags))\n",
        "    return predicted_tags\n",
        "\n",
        "  def evaluate(self, data: List[Dict[word, tag]]):\n",
        "    total_words = sum(len(sentence) for sentence in data)\n",
        "    total_sentences = len(data)\n",
        "    total_words_correct = 0\n",
        "    total_sentences_correct = 0\n",
        "    for sentence in data:\n",
        "      indexed_sentence = [self.train_words_index.get(word) for word in sentence]\n",
        "      predicted_tags = self.predict_tags(indexed_sentence)\n",
        "      true_tags = np.array([self.train_tags_index[tag] for tag in sentence.values()])\n",
        "      correct_words_predictions = np.sum(predicted_tags == true_tags)\n",
        "      total_words_correct += correct_words_predictions\n",
        "      if correct_words_predictions == len(sentence):\n",
        "        total_sentences_correct += 1\n",
        "    word_acc = total_words_correct / total_words\n",
        "    sent_acc = total_sentences_correct / total_sentences\n",
        "    return word_acc, sent_acc"
      ],
      "metadata": {
        "id": "E49wx-GY8fLx"
      },
      "execution_count": null,
      "outputs": []
    },
    {
      "cell_type": "code",
      "source": [
        "hmm_tagger = hmm_tagger()\n",
        "hmm_tagger.train(train_list)"
      ],
      "metadata": {
        "id": "2FVH77t2DuWK"
      },
      "execution_count": null,
      "outputs": []
    },
    {
      "cell_type": "code",
      "source": [
        "hmm_words_accuracy_train, hmm_sentences_accuracy_train = hmm_tagger.evaluate(train_list)\n",
        "print(\"words_accuracy - train file = {:.5f}\".format(hmm_words_accuracy_train))\n",
        "print(\"sentences_accuracy - train file = {:.5f}\".format(hmm_sentences_accuracy_train))"
      ],
      "metadata": {
        "colab": {
          "base_uri": "https://localhost:8080/"
        },
        "id": "HWW5CH-ADwX8",
        "outputId": "c08f770a-e353-4336-f311-25f620337e6f"
      },
      "execution_count": null,
      "outputs": [
        {
          "output_type": "stream",
          "name": "stdout",
          "text": [
            "words_accuracy - train file = 0.96622\n",
            "sentences_accuracy - train file = 0.61325\n"
          ]
        }
      ]
    },
    {
      "cell_type": "code",
      "source": [
        "hmm_words_accuracy_test, hmm_sentences_accuracy_test = hmm_tagger.evaluate(test_list)\n",
        "print(\"words_accuracy - test file = {:.5f}\".format(hmm_words_accuracy_test))\n",
        "print(\"sentences_accuracy - test file = {:.5f}\".format(hmm_sentences_accuracy_test))"
      ],
      "metadata": {
        "id": "PKstXt5EewR0",
        "colab": {
          "base_uri": "https://localhost:8080/"
        },
        "outputId": "4da07a9b-f834-4634-e93c-72439d3e18cf"
      },
      "execution_count": null,
      "outputs": [
        {
          "output_type": "stream",
          "name": "stdout",
          "text": [
            "words_accuracy - test file = 0.73609\n",
            "sentences_accuracy - test file = 0.11461\n"
          ]
        }
      ]
    },
    {
      "cell_type": "code",
      "source": [
        "hmm_words_accuracy_dev, hmm_sentences_accuracy_dev = hmm_tagger.evaluate(dev_list)\n",
        "print(\"words_accuracy - dev file = {:.5f}\".format(hmm_words_accuracy_dev))\n",
        "print(\"sentences_accuracy - dev file = {:.5f}\".format(hmm_sentences_accuracy_dev))"
      ],
      "metadata": {
        "id": "b9qJoZ-6ewdg",
        "colab": {
          "base_uri": "https://localhost:8080/"
        },
        "outputId": "44525dc2-9828-4165-ba66-44ce647f067d"
      },
      "execution_count": null,
      "outputs": [
        {
          "output_type": "stream",
          "name": "stdout",
          "text": [
            "words_accuracy - dev file = 0.74591\n",
            "sentences_accuracy - dev file = 0.12117\n"
          ]
        }
      ]
    },
    {
      "cell_type": "markdown",
      "metadata": {
        "id": "-YZO0uGL-4S-"
      },
      "source": [
        "**Part 4**\n",
        "\n",
        "Compare the results obtained from both taggers and a MEMM tagger, implemented by NLTK (a known NLP library), over both, the dev and test datasets. To train the NLTK MEMM tagger you should execute the following lines (it may take some time to train...):"
      ]
    },
    {
      "cell_type": "code",
      "metadata": {
        "id": "KYhtboJm_Iyx"
      },
      "source": [
        "from nltk.tag import tnt "
      ],
      "execution_count": null,
      "outputs": []
    },
    {
      "cell_type": "code",
      "source": [
        "paths = ['UD_English-GUM/en_gum-ud-train.conllu', 'UD_English-GUM/en_gum-ud-dev.conllu', 'UD_English-GUM/en_gum-ud-test.conllu']\n",
        "\n",
        "def load_file_from_git(path):\n",
        "  return list(conllutils.read_conllu(path))\n",
        "\n",
        "train_list = load_file_from_git(paths[0])\n",
        "dev_list = load_file_from_git(paths[1])\n",
        "test_list = load_file_from_git(paths[2])"
      ],
      "metadata": {
        "id": "pED9EtkcFkv7"
      },
      "execution_count": null,
      "outputs": []
    },
    {
      "cell_type": "code",
      "source": [
        "def getDataAsArrayOfTupple(data):\n",
        "  return [[(word['lemma'], word['xpos']) for word in sentence] for sentence in data]"
      ],
      "metadata": {
        "id": "9yC-xg5CDQHh"
      },
      "execution_count": null,
      "outputs": []
    },
    {
      "cell_type": "code",
      "source": [
        "train_array = getDataAsArrayOfTupple(train_list)\n",
        "test_array = getDataAsArrayOfTupple(test_list)\n",
        "dev_array = getDataAsArrayOfTupple(dev_list)\n",
        "tnt_pos_tagger = tnt.TnT()\n",
        "tnt_pos_tagger.train(train_array)"
      ],
      "metadata": {
        "id": "Onz6YBIXDUFJ"
      },
      "execution_count": null,
      "outputs": []
    },
    {
      "cell_type": "code",
      "source": [
        "def get_sentence_accuracy(data):\n",
        "  total_sentences = 0\n",
        "  correct_sentences = 0\n",
        "  for sentence in data:\n",
        "    total_sentences += 1\n",
        "    predicted = tnt_pos_tagger.evaluate([sentence])\n",
        "    if predicted == 1:\n",
        "      correct_sentences += 1\n",
        "  sentence_accuracy = correct_sentences / total_sentences\n",
        "  return sentence_accuracy"
      ],
      "metadata": {
        "id": "eys7FF4YGoCO"
      },
      "execution_count": null,
      "outputs": []
    },
    {
      "cell_type": "markdown",
      "metadata": {
        "id": "5DIvvzsq_U-o"
      },
      "source": [
        "Print both, word level and sentence level accuracy for all the three taggers in a table."
      ]
    },
    {
      "cell_type": "code",
      "source": [
        "nltk_words_accuracy_train = tnt_pos_tagger.evaluate(train_array)\n",
        "nltk_sentences_accuracy_train = get_sentence_accuracy(train_array)\n",
        "print(\"words_accuracy - train file = {:.5f}\".format(nltk_words_accuracy_train))\n",
        "print(\"sentences_accuracy - train file = {:.5f}\".format(nltk_sentences_accuracy_train))"
      ],
      "metadata": {
        "colab": {
          "base_uri": "https://localhost:8080/"
        },
        "id": "dG7VQ_LnGqke",
        "outputId": "4f3bbcb7-0a23-4aa7-e8c1-600687c13246"
      },
      "execution_count": null,
      "outputs": [
        {
          "output_type": "stream",
          "name": "stdout",
          "text": [
            "words_accuracy - train file = 0.92155\n",
            "sentences_accuracy - train file = 0.32004\n"
          ]
        }
      ]
    },
    {
      "cell_type": "code",
      "source": [
        "nltk_words_accuracy_test = tnt_pos_tagger.evaluate(test_array)\n",
        "nltk_sentences_accuracy_test = get_sentence_accuracy(test_array)\n",
        "print(\"words_accuracy - test file = {:.5f}\".format(nltk_words_accuracy_test))\n",
        "print(\"sentences_accuracy - test file = {:.5f}\".format(nltk_sentences_accuracy_test))"
      ],
      "metadata": {
        "colab": {
          "base_uri": "https://localhost:8080/"
        },
        "id": "Mwde4V4fGv6k",
        "outputId": "6c382561-90b6-4d8f-be2a-e0e086fa8264"
      },
      "execution_count": null,
      "outputs": [
        {
          "output_type": "stream",
          "name": "stdout",
          "text": [
            "words_accuracy - test file = 0.74601\n",
            "sentences_accuracy - test file = 0.09663\n"
          ]
        }
      ]
    },
    {
      "cell_type": "code",
      "source": [
        "nltk_words_accuracy_dev = tnt_pos_tagger.evaluate(dev_array)\n",
        "nltk_sentences_accuracy_dev = get_sentence_accuracy(dev_array)\n",
        "print(\"words_accuracy - dev file = {:.5f}\".format(nltk_words_accuracy_dev))\n",
        "print(\"sentences_accuracy - dev file = {:.5f}\".format(nltk_sentences_accuracy_dev))"
      ],
      "metadata": {
        "id": "P5tpcPVSGyml",
        "colab": {
          "base_uri": "https://localhost:8080/"
        },
        "outputId": "25f8180b-7eab-4ed4-d912-dbe88fcce734"
      },
      "execution_count": null,
      "outputs": [
        {
          "output_type": "stream",
          "name": "stdout",
          "text": [
            "words_accuracy - dev file = 0.77157\n",
            "sentences_accuracy - dev file = 0.07143\n"
          ]
        }
      ]
    },
    {
      "cell_type": "code",
      "metadata": {
        "id": "V32202cikh7u"
      },
      "source": [
        "df_train = pd.DataFrame({'Sentence level accuracy': [simple_sentences_accuracy_train, hmm_sentences_accuracy_train, nltk_sentences_accuracy_train],'Word level accuracy': [simple_words_accuracy_train, hmm_words_accuracy_train, nltk_words_accuracy_train]}, index=['Simple', 'HMM', 'MEMM'])"
      ],
      "execution_count": null,
      "outputs": []
    },
    {
      "cell_type": "code",
      "source": [
        "display(df_train)"
      ],
      "metadata": {
        "id": "Ju0ARrMcHD6x",
        "colab": {
          "base_uri": "https://localhost:8080/",
          "height": 143
        },
        "outputId": "1362d31a-2ee6-4471-c680-ff119634f037"
      },
      "execution_count": null,
      "outputs": [
        {
          "output_type": "display_data",
          "data": {
            "text/plain": [
              "        Sentence level accuracy  Word level accuracy\n",
              "Simple                 0.397014             0.936454\n",
              "HMM                    0.613249             0.966218\n",
              "MEMM                   0.320037             0.921550"
            ],
            "text/html": [
              "\n",
              "  <div id=\"df-2b7e7a14-c9ee-4183-9468-d16987a769f2\">\n",
              "    <div class=\"colab-df-container\">\n",
              "      <div>\n",
              "<style scoped>\n",
              "    .dataframe tbody tr th:only-of-type {\n",
              "        vertical-align: middle;\n",
              "    }\n",
              "\n",
              "    .dataframe tbody tr th {\n",
              "        vertical-align: top;\n",
              "    }\n",
              "\n",
              "    .dataframe thead th {\n",
              "        text-align: right;\n",
              "    }\n",
              "</style>\n",
              "<table border=\"1\" class=\"dataframe\">\n",
              "  <thead>\n",
              "    <tr style=\"text-align: right;\">\n",
              "      <th></th>\n",
              "      <th>Sentence level accuracy</th>\n",
              "      <th>Word level accuracy</th>\n",
              "    </tr>\n",
              "  </thead>\n",
              "  <tbody>\n",
              "    <tr>\n",
              "      <th>Simple</th>\n",
              "      <td>0.397014</td>\n",
              "      <td>0.936454</td>\n",
              "    </tr>\n",
              "    <tr>\n",
              "      <th>HMM</th>\n",
              "      <td>0.613249</td>\n",
              "      <td>0.966218</td>\n",
              "    </tr>\n",
              "    <tr>\n",
              "      <th>MEMM</th>\n",
              "      <td>0.320037</td>\n",
              "      <td>0.921550</td>\n",
              "    </tr>\n",
              "  </tbody>\n",
              "</table>\n",
              "</div>\n",
              "      <button class=\"colab-df-convert\" onclick=\"convertToInteractive('df-2b7e7a14-c9ee-4183-9468-d16987a769f2')\"\n",
              "              title=\"Convert this dataframe to an interactive table.\"\n",
              "              style=\"display:none;\">\n",
              "        \n",
              "  <svg xmlns=\"http://www.w3.org/2000/svg\" height=\"24px\"viewBox=\"0 0 24 24\"\n",
              "       width=\"24px\">\n",
              "    <path d=\"M0 0h24v24H0V0z\" fill=\"none\"/>\n",
              "    <path d=\"M18.56 5.44l.94 2.06.94-2.06 2.06-.94-2.06-.94-.94-2.06-.94 2.06-2.06.94zm-11 1L8.5 8.5l.94-2.06 2.06-.94-2.06-.94L8.5 2.5l-.94 2.06-2.06.94zm10 10l.94 2.06.94-2.06 2.06-.94-2.06-.94-.94-2.06-.94 2.06-2.06.94z\"/><path d=\"M17.41 7.96l-1.37-1.37c-.4-.4-.92-.59-1.43-.59-.52 0-1.04.2-1.43.59L10.3 9.45l-7.72 7.72c-.78.78-.78 2.05 0 2.83L4 21.41c.39.39.9.59 1.41.59.51 0 1.02-.2 1.41-.59l7.78-7.78 2.81-2.81c.8-.78.8-2.07 0-2.86zM5.41 20L4 18.59l7.72-7.72 1.47 1.35L5.41 20z\"/>\n",
              "  </svg>\n",
              "      </button>\n",
              "      \n",
              "  <style>\n",
              "    .colab-df-container {\n",
              "      display:flex;\n",
              "      flex-wrap:wrap;\n",
              "      gap: 12px;\n",
              "    }\n",
              "\n",
              "    .colab-df-convert {\n",
              "      background-color: #E8F0FE;\n",
              "      border: none;\n",
              "      border-radius: 50%;\n",
              "      cursor: pointer;\n",
              "      display: none;\n",
              "      fill: #1967D2;\n",
              "      height: 32px;\n",
              "      padding: 0 0 0 0;\n",
              "      width: 32px;\n",
              "    }\n",
              "\n",
              "    .colab-df-convert:hover {\n",
              "      background-color: #E2EBFA;\n",
              "      box-shadow: 0px 1px 2px rgba(60, 64, 67, 0.3), 0px 1px 3px 1px rgba(60, 64, 67, 0.15);\n",
              "      fill: #174EA6;\n",
              "    }\n",
              "\n",
              "    [theme=dark] .colab-df-convert {\n",
              "      background-color: #3B4455;\n",
              "      fill: #D2E3FC;\n",
              "    }\n",
              "\n",
              "    [theme=dark] .colab-df-convert:hover {\n",
              "      background-color: #434B5C;\n",
              "      box-shadow: 0px 1px 3px 1px rgba(0, 0, 0, 0.15);\n",
              "      filter: drop-shadow(0px 1px 2px rgba(0, 0, 0, 0.3));\n",
              "      fill: #FFFFFF;\n",
              "    }\n",
              "  </style>\n",
              "\n",
              "      <script>\n",
              "        const buttonEl =\n",
              "          document.querySelector('#df-2b7e7a14-c9ee-4183-9468-d16987a769f2 button.colab-df-convert');\n",
              "        buttonEl.style.display =\n",
              "          google.colab.kernel.accessAllowed ? 'block' : 'none';\n",
              "\n",
              "        async function convertToInteractive(key) {\n",
              "          const element = document.querySelector('#df-2b7e7a14-c9ee-4183-9468-d16987a769f2');\n",
              "          const dataTable =\n",
              "            await google.colab.kernel.invokeFunction('convertToInteractive',\n",
              "                                                     [key], {});\n",
              "          if (!dataTable) return;\n",
              "\n",
              "          const docLinkHtml = 'Like what you see? Visit the ' +\n",
              "            '<a target=\"_blank\" href=https://colab.research.google.com/notebooks/data_table.ipynb>data table notebook</a>'\n",
              "            + ' to learn more about interactive tables.';\n",
              "          element.innerHTML = '';\n",
              "          dataTable['output_type'] = 'display_data';\n",
              "          await google.colab.output.renderOutput(dataTable, element);\n",
              "          const docLink = document.createElement('div');\n",
              "          docLink.innerHTML = docLinkHtml;\n",
              "          element.appendChild(docLink);\n",
              "        }\n",
              "      </script>\n",
              "    </div>\n",
              "  </div>\n",
              "  "
            ]
          },
          "metadata": {}
        }
      ]
    },
    {
      "cell_type": "code",
      "source": [
        "df_test = pd.DataFrame({'Sentence level accuracy': [simple_sentences_accuracy_test, hmm_sentences_accuracy_test, nltk_sentences_accuracy_test],'Word level accuracy': [simple_words_accuracy_test, hmm_words_accuracy_test, nltk_words_accuracy_test]}, index=['Simple', 'HMM', 'MEMM'])"
      ],
      "metadata": {
        "id": "tyuScjuEHGq5"
      },
      "execution_count": null,
      "outputs": []
    },
    {
      "cell_type": "code",
      "source": [
        "display(df_test)"
      ],
      "metadata": {
        "id": "3Ku65Bh1HG7Z",
        "colab": {
          "base_uri": "https://localhost:8080/",
          "height": 143
        },
        "outputId": "8353e675-66d1-4700-c898-2839b5946566"
      },
      "execution_count": null,
      "outputs": [
        {
          "output_type": "display_data",
          "data": {
            "text/plain": [
              "        Sentence level accuracy  Word level accuracy\n",
              "Simple                 0.139326             0.806259\n",
              "HMM                    0.114607             0.736089\n",
              "MEMM                   0.096629             0.746013"
            ],
            "text/html": [
              "\n",
              "  <div id=\"df-6a8ddbea-9c29-40de-a367-ce714c4755f7\">\n",
              "    <div class=\"colab-df-container\">\n",
              "      <div>\n",
              "<style scoped>\n",
              "    .dataframe tbody tr th:only-of-type {\n",
              "        vertical-align: middle;\n",
              "    }\n",
              "\n",
              "    .dataframe tbody tr th {\n",
              "        vertical-align: top;\n",
              "    }\n",
              "\n",
              "    .dataframe thead th {\n",
              "        text-align: right;\n",
              "    }\n",
              "</style>\n",
              "<table border=\"1\" class=\"dataframe\">\n",
              "  <thead>\n",
              "    <tr style=\"text-align: right;\">\n",
              "      <th></th>\n",
              "      <th>Sentence level accuracy</th>\n",
              "      <th>Word level accuracy</th>\n",
              "    </tr>\n",
              "  </thead>\n",
              "  <tbody>\n",
              "    <tr>\n",
              "      <th>Simple</th>\n",
              "      <td>0.139326</td>\n",
              "      <td>0.806259</td>\n",
              "    </tr>\n",
              "    <tr>\n",
              "      <th>HMM</th>\n",
              "      <td>0.114607</td>\n",
              "      <td>0.736089</td>\n",
              "    </tr>\n",
              "    <tr>\n",
              "      <th>MEMM</th>\n",
              "      <td>0.096629</td>\n",
              "      <td>0.746013</td>\n",
              "    </tr>\n",
              "  </tbody>\n",
              "</table>\n",
              "</div>\n",
              "      <button class=\"colab-df-convert\" onclick=\"convertToInteractive('df-6a8ddbea-9c29-40de-a367-ce714c4755f7')\"\n",
              "              title=\"Convert this dataframe to an interactive table.\"\n",
              "              style=\"display:none;\">\n",
              "        \n",
              "  <svg xmlns=\"http://www.w3.org/2000/svg\" height=\"24px\"viewBox=\"0 0 24 24\"\n",
              "       width=\"24px\">\n",
              "    <path d=\"M0 0h24v24H0V0z\" fill=\"none\"/>\n",
              "    <path d=\"M18.56 5.44l.94 2.06.94-2.06 2.06-.94-2.06-.94-.94-2.06-.94 2.06-2.06.94zm-11 1L8.5 8.5l.94-2.06 2.06-.94-2.06-.94L8.5 2.5l-.94 2.06-2.06.94zm10 10l.94 2.06.94-2.06 2.06-.94-2.06-.94-.94-2.06-.94 2.06-2.06.94z\"/><path d=\"M17.41 7.96l-1.37-1.37c-.4-.4-.92-.59-1.43-.59-.52 0-1.04.2-1.43.59L10.3 9.45l-7.72 7.72c-.78.78-.78 2.05 0 2.83L4 21.41c.39.39.9.59 1.41.59.51 0 1.02-.2 1.41-.59l7.78-7.78 2.81-2.81c.8-.78.8-2.07 0-2.86zM5.41 20L4 18.59l7.72-7.72 1.47 1.35L5.41 20z\"/>\n",
              "  </svg>\n",
              "      </button>\n",
              "      \n",
              "  <style>\n",
              "    .colab-df-container {\n",
              "      display:flex;\n",
              "      flex-wrap:wrap;\n",
              "      gap: 12px;\n",
              "    }\n",
              "\n",
              "    .colab-df-convert {\n",
              "      background-color: #E8F0FE;\n",
              "      border: none;\n",
              "      border-radius: 50%;\n",
              "      cursor: pointer;\n",
              "      display: none;\n",
              "      fill: #1967D2;\n",
              "      height: 32px;\n",
              "      padding: 0 0 0 0;\n",
              "      width: 32px;\n",
              "    }\n",
              "\n",
              "    .colab-df-convert:hover {\n",
              "      background-color: #E2EBFA;\n",
              "      box-shadow: 0px 1px 2px rgba(60, 64, 67, 0.3), 0px 1px 3px 1px rgba(60, 64, 67, 0.15);\n",
              "      fill: #174EA6;\n",
              "    }\n",
              "\n",
              "    [theme=dark] .colab-df-convert {\n",
              "      background-color: #3B4455;\n",
              "      fill: #D2E3FC;\n",
              "    }\n",
              "\n",
              "    [theme=dark] .colab-df-convert:hover {\n",
              "      background-color: #434B5C;\n",
              "      box-shadow: 0px 1px 3px 1px rgba(0, 0, 0, 0.15);\n",
              "      filter: drop-shadow(0px 1px 2px rgba(0, 0, 0, 0.3));\n",
              "      fill: #FFFFFF;\n",
              "    }\n",
              "  </style>\n",
              "\n",
              "      <script>\n",
              "        const buttonEl =\n",
              "          document.querySelector('#df-6a8ddbea-9c29-40de-a367-ce714c4755f7 button.colab-df-convert');\n",
              "        buttonEl.style.display =\n",
              "          google.colab.kernel.accessAllowed ? 'block' : 'none';\n",
              "\n",
              "        async function convertToInteractive(key) {\n",
              "          const element = document.querySelector('#df-6a8ddbea-9c29-40de-a367-ce714c4755f7');\n",
              "          const dataTable =\n",
              "            await google.colab.kernel.invokeFunction('convertToInteractive',\n",
              "                                                     [key], {});\n",
              "          if (!dataTable) return;\n",
              "\n",
              "          const docLinkHtml = 'Like what you see? Visit the ' +\n",
              "            '<a target=\"_blank\" href=https://colab.research.google.com/notebooks/data_table.ipynb>data table notebook</a>'\n",
              "            + ' to learn more about interactive tables.';\n",
              "          element.innerHTML = '';\n",
              "          dataTable['output_type'] = 'display_data';\n",
              "          await google.colab.output.renderOutput(dataTable, element);\n",
              "          const docLink = document.createElement('div');\n",
              "          docLink.innerHTML = docLinkHtml;\n",
              "          element.appendChild(docLink);\n",
              "        }\n",
              "      </script>\n",
              "    </div>\n",
              "  </div>\n",
              "  "
            ]
          },
          "metadata": {}
        }
      ]
    },
    {
      "cell_type": "code",
      "source": [
        "df_dev = pd.DataFrame({'Sentence level accuracy': [simple_sentences_accuracy_dev, hmm_sentences_accuracy_dev, nltk_sentences_accuracy_dev],'Word level accuracy': [simple_words_accuracy_dev, hmm_words_accuracy_dev, nltk_words_accuracy_dev]}, index=['Simple', 'HMM', 'MEMM'])"
      ],
      "metadata": {
        "id": "kq_I7r9_HHKu"
      },
      "execution_count": null,
      "outputs": []
    },
    {
      "cell_type": "code",
      "source": [
        "display(df_dev)"
      ],
      "metadata": {
        "id": "D-vz36DEHHR5",
        "colab": {
          "base_uri": "https://localhost:8080/",
          "height": 143
        },
        "outputId": "5a915db3-1041-43ee-f50b-6822410af662"
      },
      "execution_count": null,
      "outputs": [
        {
          "output_type": "display_data",
          "data": {
            "text/plain": [
              "        Sentence level accuracy  Word level accuracy\n",
              "Simple                 0.121173             0.818713\n",
              "HMM                    0.121173             0.745906\n",
              "MEMM                   0.071429             0.771573"
            ],
            "text/html": [
              "\n",
              "  <div id=\"df-fe332f3e-a172-445d-9e4e-5e8e8da768ab\">\n",
              "    <div class=\"colab-df-container\">\n",
              "      <div>\n",
              "<style scoped>\n",
              "    .dataframe tbody tr th:only-of-type {\n",
              "        vertical-align: middle;\n",
              "    }\n",
              "\n",
              "    .dataframe tbody tr th {\n",
              "        vertical-align: top;\n",
              "    }\n",
              "\n",
              "    .dataframe thead th {\n",
              "        text-align: right;\n",
              "    }\n",
              "</style>\n",
              "<table border=\"1\" class=\"dataframe\">\n",
              "  <thead>\n",
              "    <tr style=\"text-align: right;\">\n",
              "      <th></th>\n",
              "      <th>Sentence level accuracy</th>\n",
              "      <th>Word level accuracy</th>\n",
              "    </tr>\n",
              "  </thead>\n",
              "  <tbody>\n",
              "    <tr>\n",
              "      <th>Simple</th>\n",
              "      <td>0.121173</td>\n",
              "      <td>0.818713</td>\n",
              "    </tr>\n",
              "    <tr>\n",
              "      <th>HMM</th>\n",
              "      <td>0.121173</td>\n",
              "      <td>0.745906</td>\n",
              "    </tr>\n",
              "    <tr>\n",
              "      <th>MEMM</th>\n",
              "      <td>0.071429</td>\n",
              "      <td>0.771573</td>\n",
              "    </tr>\n",
              "  </tbody>\n",
              "</table>\n",
              "</div>\n",
              "      <button class=\"colab-df-convert\" onclick=\"convertToInteractive('df-fe332f3e-a172-445d-9e4e-5e8e8da768ab')\"\n",
              "              title=\"Convert this dataframe to an interactive table.\"\n",
              "              style=\"display:none;\">\n",
              "        \n",
              "  <svg xmlns=\"http://www.w3.org/2000/svg\" height=\"24px\"viewBox=\"0 0 24 24\"\n",
              "       width=\"24px\">\n",
              "    <path d=\"M0 0h24v24H0V0z\" fill=\"none\"/>\n",
              "    <path d=\"M18.56 5.44l.94 2.06.94-2.06 2.06-.94-2.06-.94-.94-2.06-.94 2.06-2.06.94zm-11 1L8.5 8.5l.94-2.06 2.06-.94-2.06-.94L8.5 2.5l-.94 2.06-2.06.94zm10 10l.94 2.06.94-2.06 2.06-.94-2.06-.94-.94-2.06-.94 2.06-2.06.94z\"/><path d=\"M17.41 7.96l-1.37-1.37c-.4-.4-.92-.59-1.43-.59-.52 0-1.04.2-1.43.59L10.3 9.45l-7.72 7.72c-.78.78-.78 2.05 0 2.83L4 21.41c.39.39.9.59 1.41.59.51 0 1.02-.2 1.41-.59l7.78-7.78 2.81-2.81c.8-.78.8-2.07 0-2.86zM5.41 20L4 18.59l7.72-7.72 1.47 1.35L5.41 20z\"/>\n",
              "  </svg>\n",
              "      </button>\n",
              "      \n",
              "  <style>\n",
              "    .colab-df-container {\n",
              "      display:flex;\n",
              "      flex-wrap:wrap;\n",
              "      gap: 12px;\n",
              "    }\n",
              "\n",
              "    .colab-df-convert {\n",
              "      background-color: #E8F0FE;\n",
              "      border: none;\n",
              "      border-radius: 50%;\n",
              "      cursor: pointer;\n",
              "      display: none;\n",
              "      fill: #1967D2;\n",
              "      height: 32px;\n",
              "      padding: 0 0 0 0;\n",
              "      width: 32px;\n",
              "    }\n",
              "\n",
              "    .colab-df-convert:hover {\n",
              "      background-color: #E2EBFA;\n",
              "      box-shadow: 0px 1px 2px rgba(60, 64, 67, 0.3), 0px 1px 3px 1px rgba(60, 64, 67, 0.15);\n",
              "      fill: #174EA6;\n",
              "    }\n",
              "\n",
              "    [theme=dark] .colab-df-convert {\n",
              "      background-color: #3B4455;\n",
              "      fill: #D2E3FC;\n",
              "    }\n",
              "\n",
              "    [theme=dark] .colab-df-convert:hover {\n",
              "      background-color: #434B5C;\n",
              "      box-shadow: 0px 1px 3px 1px rgba(0, 0, 0, 0.15);\n",
              "      filter: drop-shadow(0px 1px 2px rgba(0, 0, 0, 0.3));\n",
              "      fill: #FFFFFF;\n",
              "    }\n",
              "  </style>\n",
              "\n",
              "      <script>\n",
              "        const buttonEl =\n",
              "          document.querySelector('#df-fe332f3e-a172-445d-9e4e-5e8e8da768ab button.colab-df-convert');\n",
              "        buttonEl.style.display =\n",
              "          google.colab.kernel.accessAllowed ? 'block' : 'none';\n",
              "\n",
              "        async function convertToInteractive(key) {\n",
              "          const element = document.querySelector('#df-fe332f3e-a172-445d-9e4e-5e8e8da768ab');\n",
              "          const dataTable =\n",
              "            await google.colab.kernel.invokeFunction('convertToInteractive',\n",
              "                                                     [key], {});\n",
              "          if (!dataTable) return;\n",
              "\n",
              "          const docLinkHtml = 'Like what you see? Visit the ' +\n",
              "            '<a target=\"_blank\" href=https://colab.research.google.com/notebooks/data_table.ipynb>data table notebook</a>'\n",
              "            + ' to learn more about interactive tables.';\n",
              "          element.innerHTML = '';\n",
              "          dataTable['output_type'] = 'display_data';\n",
              "          await google.colab.output.renderOutput(dataTable, element);\n",
              "          const docLink = document.createElement('div');\n",
              "          docLink.innerHTML = docLinkHtml;\n",
              "          element.appendChild(docLink);\n",
              "        }\n",
              "      </script>\n",
              "    </div>\n",
              "  </div>\n",
              "  "
            ]
          },
          "metadata": {}
        }
      ]
    }
  ]
}